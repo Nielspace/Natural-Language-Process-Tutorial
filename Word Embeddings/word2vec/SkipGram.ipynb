{
  "nbformat": 4,
  "nbformat_minor": 0,
  "metadata": {
    "colab": {
      "name": "SkipGram.ipynb",
      "provenance": []
    },
    "kernelspec": {
      "name": "python3",
      "display_name": "Python 3"
    },
    "language_info": {
      "name": "python"
    }
  },
  "cells": [
    {
      "cell_type": "code",
      "metadata": {
        "id": "vdUehOjo00AQ"
      },
      "source": [
        "import numpy as np\n",
        "import torch\n",
        "import torch.nn as nn\n",
        "import torch.optim as optim\n",
        "import matplotlib.pyplot as plt\n",
        "\n",
        "from tqdm import tqdm"
      ],
      "execution_count": null,
      "outputs": []
    },
    {
      "cell_type": "code",
      "metadata": {
        "id": "qIV70wWh0526"
      },
      "source": [
        "def random_batch(skip_grams):\n",
        "    random_inputs = []\n",
        "    random_labels = []\n",
        "    random_index = np.random.choice(range(len(skip_grams)), batch_size, replace=False)\n",
        "\n",
        "    for i in random_index:\n",
        "        random_inputs.append(skip_grams[i][0])  # target\n",
        "        random_labels.append(skip_grams[i][1])  # context word\n",
        "\n",
        "    return random_inputs, random_labels"
      ],
      "execution_count": null,
      "outputs": []
    },
    {
      "cell_type": "code",
      "metadata": {
        "id": "FuoAoeyA4Vvr"
      },
      "source": [
        "sentences = \"\"\"During my second month of nursing school, our professor gave us a pop quiz.  \n",
        "I was a conscientious student and had breezed through the questions, until I read the last one: \n",
        "“What is the first name of the woman who cleans the school?”  Surely this was some kind of joke. \n",
        "I had seen the cleaning woman several times. She was tall, dark-haired and in her 50s, but how would I know her name?  \n",
        "I handed in my paper, leaving the last question blank.  Before class ended, one student asked if the last question would count toward our quiz grade.  \n",
        "“Absolutely,” said the professor.  “In your careers you will meet many people. All are significant. They deserve your attention and care, \n",
        "even if all you do is smile and say ‘hello’. I’ve never forgotten that lesson. I also learned her name was Dorothy.\"\"\".split()"
      ],
      "execution_count": null,
      "outputs": []
    },
    {
      "cell_type": "code",
      "metadata": {
        "colab": {
          "base_uri": "https://localhost:8080/"
        },
        "id": "PWl8JRPy4KQg",
        "outputId": "42f30c2b-6f99-4ff3-af75-74f65a2e2a6e"
      },
      "source": [
        "batch_size = 2 # mini-batch size\n",
        "embedding_size = 10 # embedding size\n",
        "\n",
        "word_sequence = \" \".join(sentences).split()\n",
        "word_list = \" \".join(sentences).split()\n",
        "word_list = list(set(word_list))\n",
        "word_dict = {w: i for i, w in enumerate(word_list)}\n",
        "\n",
        "voc_size = len(word_list)\n",
        "\n",
        "window_size = 2\n",
        "\n",
        "skip_grams = []\n",
        "for i in range(window_size, len(word_sequence) - window_size):\n",
        "    target = word_dict[word_sequence[i]]\n",
        "    context = [word_dict[word_sequence[i - window_size]], word_dict[word_sequence[i + window_size]]]\n",
        "    for w in context:\n",
        "        skip_grams.append([target, w])\n",
        "\n",
        "skip_grams[0]"
      ],
      "execution_count": null,
      "outputs": [
        {
          "output_type": "execute_result",
          "data": {
            "text/plain": [
              "[43, 51]"
            ]
          },
          "metadata": {
            "tags": []
          },
          "execution_count": 4
        }
      ]
    },
    {
      "cell_type": "code",
      "metadata": {
        "id": "_VIXjkfL4R3v"
      },
      "source": [
        "I, O = random_batch(skip_grams)"
      ],
      "execution_count": null,
      "outputs": []
    },
    {
      "cell_type": "code",
      "metadata": {
        "colab": {
          "base_uri": "https://localhost:8080/"
        },
        "id": "tPGC02Wc4me1",
        "outputId": "948f14cc-1f88-495f-99e9-8063b0e529f9"
      },
      "source": [
        "I"
      ],
      "execution_count": null,
      "outputs": [
        {
          "output_type": "execute_result",
          "data": {
            "text/plain": [
              "[75, 24]"
            ]
          },
          "metadata": {
            "tags": []
          },
          "execution_count": 6
        }
      ]
    },
    {
      "cell_type": "code",
      "metadata": {
        "id": "WiovprKK5T5_"
      },
      "source": [
        "class skipgramModel(nn.Module):\n",
        "    def __init__(self):\n",
        "        super(skipgramModel, self).__init__()\n",
        "        self.embedding = nn.Embedding(voc_size, embedding_size)\n",
        "        self.W = nn.Linear(embedding_size, embedding_size, bias=False) \n",
        "        self.WT = nn.Linear(embedding_size, voc_size, bias=False)\n",
        "\n",
        "    def forward(self, X):\n",
        "        embeddings = self.embedding(X)\n",
        "        hidden_layer = nn.functional.relu(self.W(embeddings)) \n",
        "        output_layer = self.WT(hidden_layer)\n",
        "        return output_layer\n",
        "\n",
        "    def get_word_emdedding(self, word):\n",
        "        word = torch.tensor([word_dict[word]])\n",
        "        return self.embedding(word).view(1,-1)"
      ],
      "execution_count": null,
      "outputs": []
    },
    {
      "cell_type": "code",
      "metadata": {
        "id": "n_I8SgqQ7iQ6"
      },
      "source": [
        "model = skipgramModel()\n",
        "\n",
        "criterion = nn.CrossEntropyLoss()\n",
        "optimizer = optim.Adam(model.parameters(), lr=0.01)"
      ],
      "execution_count": null,
      "outputs": []
    },
    {
      "cell_type": "code",
      "metadata": {
        "colab": {
          "base_uri": "https://localhost:8080/"
        },
        "id": "-WaOQb0f7i39",
        "outputId": "f7919417-f9fc-427f-c4da-63a9f259659a"
      },
      "source": [
        "for epoch in tqdm(range(150000), total=len(skip_grams)):\n",
        "    input_batch, target_batch = random_batch(skip_grams)\n",
        "    input_batch = torch.LongTensor(input_batch)\n",
        "    target_batch = torch.LongTensor(target_batch)\n",
        "\n",
        "    optimizer.zero_grad()\n",
        "    output = model(input_batch)\n",
        "\n",
        "    # output : [batch_size, voc_size], target_batch : [batch_size] (LongTensor, not one-hot)\n",
        "    loss = criterion(output, target_batch)\n",
        "    if (epoch + 1) % 10000 == 0:\n",
        "        print('Epoch:', '%04d' % (epoch + 1), 'cost =', '{:.6f}'.format(loss))\n",
        "\n",
        "    loss.backward(retain_graph=True)\n",
        "    optimizer.step()"
      ],
      "execution_count": null,
      "outputs": [
        {
          "output_type": "stream",
          "text": [
            "10171it [00:07, 1330.55it/s]"
          ],
          "name": "stderr"
        },
        {
          "output_type": "stream",
          "text": [
            "Epoch: 10000 cost = 1.062543\n"
          ],
          "name": "stdout"
        },
        {
          "output_type": "stream",
          "text": [
            "20208it [00:15, 1347.85it/s]"
          ],
          "name": "stderr"
        },
        {
          "output_type": "stream",
          "text": [
            "Epoch: 20000 cost = 0.444483\n"
          ],
          "name": "stdout"
        },
        {
          "output_type": "stream",
          "text": [
            "30161it [00:22, 1349.31it/s]"
          ],
          "name": "stderr"
        },
        {
          "output_type": "stream",
          "text": [
            "Epoch: 30000 cost = 0.867431\n"
          ],
          "name": "stdout"
        },
        {
          "output_type": "stream",
          "text": [
            "40133it [00:30, 1329.07it/s]"
          ],
          "name": "stderr"
        },
        {
          "output_type": "stream",
          "text": [
            "Epoch: 40000 cost = 0.963096\n"
          ],
          "name": "stdout"
        },
        {
          "output_type": "stream",
          "text": [
            "50220it [00:38, 1309.34it/s]"
          ],
          "name": "stderr"
        },
        {
          "output_type": "stream",
          "text": [
            "Epoch: 50000 cost = 1.423180\n"
          ],
          "name": "stdout"
        },
        {
          "output_type": "stream",
          "text": [
            "60128it [00:45, 1280.51it/s]"
          ],
          "name": "stderr"
        },
        {
          "output_type": "stream",
          "text": [
            "Epoch: 60000 cost = 0.822342\n"
          ],
          "name": "stdout"
        },
        {
          "output_type": "stream",
          "text": [
            "70145it [00:53, 1293.01it/s]"
          ],
          "name": "stderr"
        },
        {
          "output_type": "stream",
          "text": [
            "Epoch: 70000 cost = 1.984433\n"
          ],
          "name": "stdout"
        },
        {
          "output_type": "stream",
          "text": [
            "80139it [01:01, 1334.73it/s]"
          ],
          "name": "stderr"
        },
        {
          "output_type": "stream",
          "text": [
            "Epoch: 80000 cost = 2.139242\n"
          ],
          "name": "stdout"
        },
        {
          "output_type": "stream",
          "text": [
            "90217it [01:08, 1324.62it/s]"
          ],
          "name": "stderr"
        },
        {
          "output_type": "stream",
          "text": [
            "Epoch: 90000 cost = 1.043241\n"
          ],
          "name": "stdout"
        },
        {
          "output_type": "stream",
          "text": [
            "100215it [01:16, 1289.52it/s]"
          ],
          "name": "stderr"
        },
        {
          "output_type": "stream",
          "text": [
            "Epoch: 100000 cost = 0.403268\n"
          ],
          "name": "stdout"
        },
        {
          "output_type": "stream",
          "text": [
            "110128it [01:24, 1271.62it/s]"
          ],
          "name": "stderr"
        },
        {
          "output_type": "stream",
          "text": [
            "Epoch: 110000 cost = 1.198132\n"
          ],
          "name": "stdout"
        },
        {
          "output_type": "stream",
          "text": [
            "120239it [01:32, 1316.70it/s]"
          ],
          "name": "stderr"
        },
        {
          "output_type": "stream",
          "text": [
            "Epoch: 120000 cost = 0.456162\n"
          ],
          "name": "stdout"
        },
        {
          "output_type": "stream",
          "text": [
            "130196it [01:39, 1240.23it/s]"
          ],
          "name": "stderr"
        },
        {
          "output_type": "stream",
          "text": [
            "Epoch: 130000 cost = 0.690428\n"
          ],
          "name": "stdout"
        },
        {
          "output_type": "stream",
          "text": [
            "140173it [01:47, 1259.46it/s]"
          ],
          "name": "stderr"
        },
        {
          "output_type": "stream",
          "text": [
            "Epoch: 140000 cost = 3.009590\n"
          ],
          "name": "stdout"
        },
        {
          "output_type": "stream",
          "text": [
            "150000it [01:55, 1299.90it/s]"
          ],
          "name": "stderr"
        },
        {
          "output_type": "stream",
          "text": [
            "Epoch: 150000 cost = 1.021717\n"
          ],
          "name": "stdout"
        },
        {
          "output_type": "stream",
          "text": [
            "\n"
          ],
          "name": "stderr"
        }
      ]
    },
    {
      "cell_type": "code",
      "metadata": {
        "id": "2elp_bzW8B0M"
      },
      "source": [
        "def Skipgram_test(test_data, model):\n",
        "    correct_ct = 0\n",
        "\n",
        "    for i in range(len(test_data)):\n",
        "        input_batch, target_batch = random_batch(test_data)\n",
        "        input_batch = torch.LongTensor(input_batch)\n",
        "        target_batch = torch.LongTensor(target_batch)\n",
        "\n",
        "        model.zero_grad()\n",
        "        _, predicted = torch.max(model(input_batch), 1)\n",
        "\n",
        "\n",
        "\n",
        "\n",
        "        if predicted[0] == target_batch[0]:\n",
        "                correct_ct += 1\n",
        "\n",
        "    print('Accuracy: {:.1f}% ({:d}/{:d})'.format(correct_ct/len(test_data)*100, correct_ct, len(test_data)))"
      ],
      "execution_count": null,
      "outputs": []
    },
    {
      "cell_type": "code",
      "metadata": {
        "colab": {
          "base_uri": "https://localhost:8080/"
        },
        "id": "UOV3AC018Squ",
        "outputId": "16859c47-6a2e-444e-83f6-865985b9e251"
      },
      "source": [
        "Skipgram_test(skip_grams, model)"
      ],
      "execution_count": null,
      "outputs": [
        {
          "output_type": "stream",
          "text": [
            "Accuracy: 37.3% (103/276)\n"
          ],
          "name": "stdout"
        }
      ]
    },
    {
      "cell_type": "code",
      "metadata": {
        "colab": {
          "base_uri": "https://localhost:8080/",
          "height": 592
        },
        "id": "1HYIy_AM8gRj",
        "outputId": "fde5d49a-a925-4d33-b9a9-3bb63538d7fd"
      },
      "source": [
        "plt.figure(figsize=(15,10))\n",
        "for w in word_list:\n",
        "    x = model.get_word_emdedding(w).detach().data.numpy()[0][0]\n",
        "    y = model.get_word_emdedding(w).detach().data.numpy()[0][1]\n",
        "    plt.scatter(x, y)\n",
        "    plt.annotate(w, xy=(x, y), xytext=(5, 2), textcoords='offset points', ha='right', va='bottom')\n",
        "plt.show()"
      ],
      "execution_count": null,
      "outputs": [
        {
          "output_type": "display_data",
          "data": {
            "image/png": "[encoded data removed]",
            "text/plain": [
              "<Figure size 1080x720 with 1 Axes>"
            ]
          },
          "metadata": {
            "tags": [],
            "needs_background": "light"
          }
        }
      ]
    },
    {
      "cell_type": "code",
      "metadata": {
        "id": "a5G2HLktB_1k"
      },
      "source": [
        "pred = \"Surely\".split()"
      ],
      "execution_count": null,
      "outputs": []
    },
    {
      "cell_type": "code",
      "metadata": {
        "id": "KvbtE_tJDmkB"
      },
      "source": [
        "word_dict_inverse = {i:w for w, i in word_dict.items()}\n"
      ],
      "execution_count": null,
      "outputs": []
    },
    {
      "cell_type": "code",
      "metadata": {
        "colab": {
          "base_uri": "https://localhost:8080/",
          "height": 37
        },
        "id": "f865TE5WEUS6",
        "outputId": "005ea604-8ab2-4207-c20c-5b6b937c6a27"
      },
      "source": [
        "model_pred = []\n",
        "e = 0\n",
        "model_pred.append(pred[0])\n",
        "\n",
        "while e<6:\n",
        "    word = word_dict_inverse[torch.argmax(model(torch.LongTensor([word_dict[model_pred[-1]]]))).item()]\n",
        "    model_pred.append(word)\n",
        "    e+=1\n",
        "\n",
        "' '.join(model_pred)"
      ],
      "execution_count": null,
      "outputs": [
        {
          "output_type": "execute_result",
          "data": {
            "application/vnd.google.colaboratory.intrinsic+json": {
              "type": "string"
            },
            "text/plain": [
              "'Surely was dark-haired in I how 50s,'"
            ]
          },
          "metadata": {
            "tags": []
          },
          "execution_count": 18
        }
      ]
    },
    {
      "cell_type": "code",
      "metadata": {
        "id": "60YfNstTQCQr"
      },
      "source": [
        ""
      ],
      "execution_count": null,
      "outputs": []
    }
  ]
}